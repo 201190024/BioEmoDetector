{
  "nbformat": 4,
  "nbformat_minor": 0,
  "metadata": {
    "colab": {
      "provenance": [],
      "gpuType": "T4"
    },
    "kernelspec": {
      "name": "python3",
      "display_name": "Python 3"
    },
    "language_info": {
      "name": "python"
    },
    "accelerator": "GPU"
  },
  "cells": [
    {
      "cell_type": "code",
      "source": [
        "import numpy as np\n",
        "import pandas as pd\n",
        "from sklearn import metrics\n",
        "import transformers\n",
        "import torch\n",
        "from torch.utils.data import Dataset, DataLoader\n",
        "from transformers import AutoTokenizer, AutoModelForSequenceClassification, AdamW\n",
        "\n",
        "# Define your configuration variables\n",
        "MAX_LEN = 200\n",
        "TRAIN_BATCH_SIZE = 24\n",
        "VALID_BATCH_SIZE = 8\n",
        "EPOCHS = 5\n",
        "LEARNING_RATE = 1e-05\n",
        "device = torch.device('cuda' if torch.cuda.is_available() else 'cpu')\n",
        "\n",
        "# Load your CSV data for both training and validation\n",
        "train_df = pd.read_csv(\"data/Training set (Clinical_dataset).csv\")[[\"story\", \"anger\", \"fear\", \"sadness\", \"calmness\", \"disgust\", \"pleasantness\", \"eagerness\", \"joy\"]]\n",
        "val_df = pd.read_csv(\"data/Validation set (Clinical_dataset).csv\")[[\"story\", \"anger\", \"fear\", \"sadness\", \"calmness\", \"disgust\", \"pleasantness\", \"eagerness\", \"joy\"]]\n",
        "\n",
        "# Initialize the ClinicalBERT tokenizer\n",
        "tokenizer = AutoTokenizer.from_pretrained('allenai/scibert_scivocab_cased')\n",
        "\n",
        "# Create a custom dataset class\n",
        "class CustomDataset(Dataset):\n",
        "    def __init__(self, dataframe, tokenizer, max_len):\n",
        "        self.tokenizer = tokenizer\n",
        "        self.data = dataframe\n",
        "        self.comment_text = dataframe.story\n",
        "        self.targets = self.data[list(dataframe.columns[1:])]\n",
        "        self.max_len = max_len\n",
        "\n",
        "    def __len__(self):\n",
        "        return len(self.comment_text)\n",
        "\n",
        "    def __getitem__(self, index):\n",
        "        comment_text = str(self.comment_text[index])\n",
        "        comment_text = \" \".join(comment_text.split())\n",
        "\n",
        "        inputs = self.tokenizer.encode_plus(\n",
        "            comment_text,\n",
        "            None,\n",
        "            add_special_tokens=True,\n",
        "            max_length=self.max_len,\n",
        "            padding=\"max_length\",\n",
        "            return_token_type_ids=True,\n",
        "            truncation=True\n",
        "        )\n",
        "        ids = inputs['input_ids']\n",
        "        mask = inputs['attention_mask']\n",
        "        token_type_ids = inputs[\"token_type_ids\"]\n",
        "\n",
        "        return {\n",
        "            'ids': torch.tensor(ids, dtype=torch.long),\n",
        "            'mask': torch.tensor(mask, dtype=torch.long),\n",
        "            'token_type_ids': torch.tensor(token_type_ids, dtype=torch.long),\n",
        "            'targets': torch.tensor(self.targets.iloc[index].values, dtype=torch.float)\n",
        "        }\n",
        "\n"
      ],
      "metadata": {
        "id": "3s2hmM1xhs8p"
      },
      "execution_count": null,
      "outputs": []
    },
    {
      "cell_type": "code",
      "source": [
        "# Create datasets and data loaders for both training and validation\n",
        "training_set = CustomDataset(train_df, tokenizer, MAX_LEN)\n",
        "validation_set = CustomDataset(val_df, tokenizer, MAX_LEN)\n",
        "\n",
        "train_params = {'batch_size': TRAIN_BATCH_SIZE, 'shuffle': True, 'num_workers': 0}\n",
        "valid_params = {'batch_size': VALID_BATCH_SIZE, 'shuffle': False, 'num_workers': 0}\n",
        "\n",
        "training_loader = DataLoader(training_set, **train_params)\n",
        "validation_loader = DataLoader(validation_set, **valid_params)\n",
        "\n",
        "# Define the ClinicalBERT model\n",
        "model = AutoModelForSequenceClassification.from_pretrained('allenai/scibert_scivocab_cased', num_labels=8)\n",
        "model.to(device)\n",
        "\n",
        "# Define the optimizer\n",
        "optimizer = AdamW(model.parameters(), lr=LEARNING_RATE)\n",
        "\n",
        "# Define the loss function\n",
        "def loss_fn(outputs, targets):\n",
        "    # Extract logits from the outputs\n",
        "    logits = outputs.logits\n",
        "\n",
        "    return torch.nn.BCEWithLogitsLoss()(logits, targets)\n",
        "\n",
        "# Training loop\n",
        "for epoch in range(EPOCHS):\n",
        "    model.train()\n",
        "    train_losses = []\n",
        "\n",
        "    for data in training_loader:\n",
        "        ids = data['ids'].to(device, dtype=torch.long)\n",
        "        mask = data['mask'].to(device, dtype=torch.long)\n",
        "        token_type_ids = data['token_type_ids'].to(device, dtype=torch.long)\n",
        "        targets = data['targets'].to(device, dtype=torch.float)\n",
        "\n",
        "        optimizer.zero_grad()\n",
        "        outputs = model(ids, mask, token_type_ids)\n",
        "        loss = loss_fn(outputs, targets)\n",
        "        train_losses.append(loss.item())\n",
        "        loss.backward()\n",
        "        optimizer.step()\n",
        "\n",
        "    avg_train_loss = sum(train_losses) / len(train_losses)\n",
        "    print(f'Epoch {epoch + 1}, Training Loss: {avg_train_loss:.4f}')\n"
      ],
      "metadata": {
        "id": "pcMWeGAOhs_n",
        "colab": {
          "base_uri": "https://localhost:8080/"
        },
        "outputId": "926ff5ba-d22e-4654-d447-47d011d9181a"
      },
      "execution_count": null,
      "outputs": [
        {
          "output_type": "stream",
          "name": "stderr",
          "text": [
            "Some weights of BertForSequenceClassification were not initialized from the model checkpoint at allenai/scibert_scivocab_cased and are newly initialized: ['classifier.weight', 'classifier.bias']\n",
            "You should probably TRAIN this model on a down-stream task to be able to use it for predictions and inference.\n",
            "/usr/local/lib/python3.10/dist-packages/transformers/optimization.py:411: FutureWarning: This implementation of AdamW is deprecated and will be removed in a future version. Use the PyTorch implementation torch.optim.AdamW instead, or set `no_deprecation_warning=True` to disable this warning\n",
            "  warnings.warn(\n"
          ]
        },
        {
          "output_type": "stream",
          "name": "stdout",
          "text": [
            "Epoch 1, Training Loss: 0.3413\n",
            "Epoch 2, Training Loss: 0.2318\n",
            "Epoch 3, Training Loss: 0.1962\n",
            "Epoch 4, Training Loss: 0.1693\n",
            "Epoch 5, Training Loss: 0.1446\n"
          ]
        }
      ]
    },
    {
      "cell_type": "code",
      "source": [
        "from sklearn.metrics import hamming_loss\n",
        "from sklearn.metrics import accuracy_score, precision_score, recall_score, f1_score"
      ],
      "metadata": {
        "id": "ZAbVVGMs5ZiT"
      },
      "execution_count": null,
      "outputs": []
    },
    {
      "cell_type": "code",
      "source": [
        "def validate_model():\n",
        "    model.eval()\n",
        "    val_losses = []\n",
        "\n",
        "    val_targets = []\n",
        "    val_predictions = []\n",
        "\n",
        "    with torch.no_grad():\n",
        "        for data in validation_loader:\n",
        "            ids = data['ids'].to(device, dtype=torch.long)\n",
        "            mask = data['mask'].to(device, dtype=torch.long)\n",
        "            token_type_ids = data['token_type_ids'].to(device, dtype=torch.long)\n",
        "            targets = data['targets'].to(device, dtype=torch.float)\n",
        "\n",
        "            outputs = model(ids, mask, token_type_ids)\n",
        "            loss = loss_fn(outputs, targets)\n",
        "            val_losses.append(loss.item())\n",
        "\n",
        "            val_predictions.extend(outputs.logits.cpu().numpy())\n",
        "            val_targets.extend(targets.cpu().numpy())\n",
        "\n",
        "    # Convert val_targets and val_predictions to NumPy arrays\n",
        "    val_targets = np.array(val_targets)\n",
        "    val_predictions = np.array(val_predictions)\n",
        "\n",
        "    # Apply threshold of 0.5 to convert to binary values\n",
        "    val_predictions = (val_predictions >= 0.5).astype(int)\n",
        "\n",
        "    # Calculate Hamming Loss\n",
        "    hamming_loss_value = hamming_loss(val_targets, val_predictions)\n",
        "\n",
        "    # Calculate Exact Match Ratio\n",
        "    exact_match_ratio = accuracy_score(val_targets, val_predictions)\n",
        "\n",
        "    print(f'Hamming Loss: {hamming_loss_value:.4f}')\n",
        "    print(f'Exact Match Ratio: {exact_match_ratio:.4f}')\n",
        "\n",
        "    # Calculate and print accuracy, precision, recall, and F1-score for each class\n",
        "    for i, target_name in enumerate(val_df.columns[1:]):\n",
        "        target_labels = val_targets[:, i]\n",
        "        predicted_labels = (val_predictions[:, i] > 0.5)\n",
        "\n",
        "        accuracy = accuracy_score(target_labels, predicted_labels)\n",
        "        precision = precision_score(target_labels, predicted_labels, zero_division=0)\n",
        "        recall = recall_score(target_labels, predicted_labels)\n",
        "        f1 = f1_score(target_labels, predicted_labels)\n",
        "\n",
        "        print(f'Class: {target_name}')\n",
        "        print(f'Accuracy: {accuracy:.4f}')\n",
        "        print(f'Precision: {precision:.4f}')\n",
        "        print(f'Recall: {recall:.4f}')\n",
        "        print(f'F1-Score: {f1:.4f}')\n",
        "\n",
        "    # Return the average validation loss\n",
        "    return sum(val_losses) / len(val_losses)"
      ],
      "metadata": {
        "id": "ydfBzSFGi1Kb"
      },
      "execution_count": null,
      "outputs": []
    },
    {
      "cell_type": "code",
      "source": [
        "# Validate the model\n",
        "validate_model()\n"
      ],
      "metadata": {
        "id": "VjMGw2H92RDD",
        "colab": {
          "base_uri": "https://localhost:8080/"
        },
        "outputId": "740914b6-b26f-43a9-89cc-88cb0ca602c2"
      },
      "execution_count": null,
      "outputs": [
        {
          "output_type": "stream",
          "name": "stdout",
          "text": [
            "Hamming Loss: 0.0770\n",
            "Exact Match Ratio: 0.7019\n",
            "Class: anger\n",
            "Accuracy: 0.9229\n",
            "Precision: 0.7432\n",
            "Recall: 0.6487\n",
            "F1-Score: 0.6928\n",
            "Class: fear\n",
            "Accuracy: 0.9114\n",
            "Precision: 0.8820\n",
            "Recall: 0.7953\n",
            "F1-Score: 0.8364\n",
            "Class: sadness\n",
            "Accuracy: 0.9076\n",
            "Precision: 0.9083\n",
            "Recall: 0.8560\n",
            "F1-Score: 0.8814\n",
            "Class: calmness\n",
            "Accuracy: 0.9296\n",
            "Precision: 0.9270\n",
            "Recall: 0.8391\n",
            "F1-Score: 0.8809\n",
            "Class: disgust\n",
            "Accuracy: 0.9348\n",
            "Precision: 0.9229\n",
            "Recall: 0.7538\n",
            "F1-Score: 0.8298\n",
            "Class: pleasantness\n",
            "Accuracy: 0.9457\n",
            "Precision: 0.8614\n",
            "Recall: 0.6037\n",
            "F1-Score: 0.7099\n",
            "Class: eagerness\n",
            "Accuracy: 0.9088\n",
            "Precision: 0.9229\n",
            "Recall: 0.7450\n",
            "F1-Score: 0.8244\n",
            "Class: joy\n",
            "Accuracy: 0.9232\n",
            "Precision: 0.9399\n",
            "Recall: 0.8621\n",
            "F1-Score: 0.8993\n"
          ]
        },
        {
          "output_type": "execute_result",
          "data": {
            "text/plain": [
              "0.19925631997325727"
            ]
          },
          "metadata": {},
          "execution_count": 8
        }
      ]
    },
    {
      "cell_type": "code",
      "source": [
        "# Save the trained model\n",
        "model.save_pretrained('SciBERT_trained_model')"
      ],
      "metadata": {
        "id": "RWdxEZJv4-bv"
      },
      "execution_count": null,
      "outputs": []
    },
    {
      "cell_type": "code",
      "source": [],
      "metadata": {
        "id": "hOG6tNIIoZDc"
      },
      "execution_count": null,
      "outputs": []
    }
  ]
}